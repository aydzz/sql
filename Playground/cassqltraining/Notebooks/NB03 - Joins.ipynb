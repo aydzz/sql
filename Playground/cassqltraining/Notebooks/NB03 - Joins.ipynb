{
    "metadata": {
        "kernelspec": {
            "name": "SQL",
            "display_name": "SQL",
            "language": "sql"
        },
        "language_info": {
            "name": "sql",
            "version": ""
        }
    },
    "nbformat_minor": 2,
    "nbformat": 4,
    "cells": [
        {
            "cell_type": "markdown",
            "source": [
                "# Understand joins concepts and syntax\n",
                "\n",
                "https://learn.microsoft.com/en-us/training/modules/query-multiple-tables-with-joins/2-join-concepts\n",
                "\n",
                "- **Cartesian Product **\n",
                "-  Combination of ALL RECORDS in the JOINED tables.\n",
                "\t- This usually what we dont want in JOINS\n",
                "- **INNER JOIN**\n",
                ",\t-** LEFT\n",
                "\t-** RIGHT\n",
                "    - **FULL**\n",
                "\t- **GUIDLINES FOR USING OUTER JOIN **\n",
                "\t\t- As you have seen, table aliases are preferred not only for the SELECT list, but also for the ON clause.\n",
                "\t\t- As with an INNER JOIN, an OUTER JOIN may be performed on a single matching column or on multiple matching attributes.\n",
                "\t\t- Unlike an INNER JOIN, the order in which tables are listed and joined in the FROM clause does matter with OUTER JOIN, as it will determine whether you choose LEFT or RIGHT for your join.\n",
                "\t\t- Multi-table joins are more complex when an OUTER JOIN is present. The presence of NULLs in the results of an OUTER JOIN may cause issues if the intermediate results are then joined to a third table. Rows with NULLs may be filtered out by the second join's predicate.\n",
                "\t\t- To display only rows where no match exists, add a test for NULL in a WHERE clause following an OUTER JOIN predicate.\n",
                "\t\t- A FULL OUTER JOIN is used rarely. It returns all the matching rows between the two tables, plus all the rows from the first table with no match in the second, plus all the rows in the second without a match in the first.\n",
                "\t\t- There is no way to predict the order the rows will come back without an ORDER BY clause. There’s no way to know if the matched or unmatched rows will be returned first.\n",
                "- **CROSS JOIN**\n",
                "\t- Take note that we dont us `ON` in `CROSS JOIN` ( will cause an error)\n",
                "\n",
                "- **SELF JOIN**\n",
                "\t- Recursive Relationship\n",
                "\t- Guidlines on Self Joining\n",
                "\t\t- Define two instances of the same table in the FROM clause, and join them as needed, using inner or outer joins.\n",
                "\t\t- Use table aliases to differentiate the two instances of the same table.\n",
                "\t\t- Use the ON clause to provide a filter comparing columns of one instance of the table with columns from the other instance of the table.\n",
                "\n",
                "\n",
                ""
            ],
            "metadata": {
                "azdata_cell_guid": "98fcd295-f444-413b-a4db-219b8349d165"
            },
            "attachments": {}
        },
        {
            "cell_type": "code",
            "source": [
                "SELECT TOP 10 `Region` FROM sales_raw;\r\n",
                "-- SHOW columns from sales_raw;"
            ],
            "metadata": {
                "azdata_cell_guid": "14759e6e-a0e7-45d7-8616-501a6a227157",
                "language": "sql",
                "tags": [
                    "hide_input"
                ]
            },
            "outputs": [
                {
                    "output_type": "error",
                    "ename": "",
                    "evalue": "(1064, \"You have an error in your SQL syntax; check the manual that corresponds to your MariaDB server version for the right syntax to use near '10 `Region` FROM sales_raw' at line 1\")",
                    "traceback": []
                },
                {
                    "output_type": "display_data",
                    "data": {
                        "text/html": "Total execution time: 00:00:00.001"
                    },
                    "metadata": {}
                }
            ],
            "execution_count": 20
        },
        {
            "cell_type": "code",
            "source": [
                "SELECT * FROM sales_raw T1 CROSS JOIN sales_raw as T2 -- DONT RUN THIS"
            ],
            "metadata": {
                "language": "sql",
                "azdata_cell_guid": "e765f1e8-87cf-4ea7-bfd1-ea44df147a19"
            },
            "outputs": [],
            "execution_count": null
        }
    ]
}